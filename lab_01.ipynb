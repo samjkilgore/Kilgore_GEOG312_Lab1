{
  "cells": [
    {
      "cell_type": "markdown",
      "metadata": {
        "id": "view-in-github",
        "colab_type": "text"
      },
      "source": [
        "<a href=\"https://colab.research.google.com/github/samjkilgore/Kilgore_GEOG312_Lab1/blob/main/Copy_of_lab_01.ipynb\" target=\"_parent\"><img src=\"https://colab.research.google.com/assets/colab-badge.svg\" alt=\"Open In Colab\"/></a>"
      ]
    },
    {
      "cell_type": "markdown",
      "metadata": {
        "id": "4E5nyXVVvD4m"
      },
      "source": [
        "[![image](https://colab.research.google.com/assets/colab-badge.svg)](https://colab.research.google.com/github/giswqs/geog-312/blob/master/labs/lab_01.ipynb)\n",
        "[![image](https://binder.pangeo.io/badge_logo.svg)](https://gishub.org/geog312-pangeo)"
      ]
    },
    {
      "cell_type": "code",
      "execution_count": null,
      "metadata": {
        "id": "RpRLNId_vD4o"
      },
      "outputs": [],
      "source": [
        "from datetime import datetime\n",
        "\n",
        "now = datetime.now()\n",
        "print(f\"Submitted time: {now}\")"
      ]
    },
    {
      "cell_type": "markdown",
      "metadata": {
        "id": "GvHl_jZmvD4o"
      },
      "source": [
        "## Question 1\n",
        "\n",
        "**Simple Message:** Assign a message to a variable, and then print that message."
      ]
    },
    {
      "cell_type": "code",
      "execution_count": null,
      "metadata": {
        "id": "5hQDFYVjvD4p",
        "outputId": "f2da83f1-1cfd-4a54-93b3-f3b58658be60",
        "colab": {
          "base_uri": "https://localhost:8080/"
        }
      },
      "outputs": [
        {
          "output_type": "stream",
          "name": "stdout",
          "text": [
            "Sam Kilgore was here.\n"
          ]
        }
      ],
      "source": [
        "questionone = \"Sam Kilgore was here.\"\n",
        "print(questionone)"
      ]
    },
    {
      "cell_type": "markdown",
      "metadata": {
        "id": "5XCJ4VhJvD4p"
      },
      "source": [
        "## Question 2\n",
        "**Simple Messages:** Assign a message to a variable, and print that message. Then change the value of the variable to a new message, and print the new message."
      ]
    },
    {
      "cell_type": "code",
      "execution_count": null,
      "metadata": {
        "id": "ya6pltaivD4p",
        "outputId": "444e8343-3428-41ce-b679-e582cc278265",
        "colab": {
          "base_uri": "https://localhost:8080/"
        }
      },
      "outputs": [
        {
          "output_type": "stream",
          "name": "stdout",
          "text": [
            "Sam Kilgore was here.\n",
            "Sam Kilgore will be back tomorrow.\n"
          ]
        }
      ],
      "source": [
        "questiontwo = \"Sam Kilgore was here.\"\n",
        "print(questiontwo)\n",
        "questiontwo = \"Sam Kilgore will be back tomorrow.\"\n",
        "print(questiontwo)"
      ]
    },
    {
      "cell_type": "markdown",
      "metadata": {
        "id": "WVDpi1s-vD4p"
      },
      "source": [
        "## Question 3\n",
        "**Personal Message:** Use a variable to represent a person’s name, and print a message to that person. Your message should be simple, such as, “Hello Eric, would you like to learn some Python today?”"
      ]
    },
    {
      "cell_type": "code",
      "execution_count": null,
      "metadata": {
        "id": "cNCsvMbCvD4p",
        "outputId": "4e0f1e13-cbb4-4f97-c3e8-ef2346def06c",
        "colab": {
          "base_uri": "https://localhost:8080/"
        }
      },
      "outputs": [
        {
          "output_type": "stream",
          "name": "stdout",
          "text": [
            "I don't think Gerald is taking this class.\n"
          ]
        }
      ],
      "source": [
        "name = \"Gerald\"\n",
        "message = f\"I don't think {name} is taking this class.\"\n",
        "print(message)"
      ]
    },
    {
      "cell_type": "markdown",
      "metadata": {
        "id": "lhZ_E_PjvD4q"
      },
      "source": [
        "## Question 4\n",
        "**Name Cases:** Use a variable to represent a person’s name, and then print that person’s name in lowercase, uppercase, and title case."
      ]
    },
    {
      "cell_type": "code",
      "execution_count": null,
      "metadata": {
        "id": "wchWemQKvD4q",
        "outputId": "5a2e4766-de9f-47c2-abbc-2d2d72934f7a",
        "colab": {
          "base_uri": "https://localhost:8080/"
        }
      },
      "outputs": [
        {
          "output_type": "stream",
          "name": "stdout",
          "text": [
            "laurence fishburne\n",
            "LAURENCE FISHBURNE\n",
            "Laurence Fishburne\n"
          ]
        }
      ],
      "source": [
        "name = \"LauRence fishburne\"\n",
        "print(name.lower())\n",
        "print(name.upper())\n",
        "print(name.title())"
      ]
    },
    {
      "cell_type": "markdown",
      "metadata": {
        "id": "gqLht-12vD4q"
      },
      "source": [
        "## Question 5\n",
        "**Famous Quote:** Find a quote from a famous person you admire. Print the quote and the name of its author. Your output should look something like the following, including the quotation marks:\n",
        "```\n",
        "Albert Einstein once said, “A person who never made a mistake never tried anything new.”\n",
        "```"
      ]
    },
    {
      "cell_type": "code",
      "execution_count": 1,
      "metadata": {
        "id": "CxaDjFZ6vD4q",
        "colab": {
          "base_uri": "https://localhost:8080/"
        },
        "outputId": "d431b170-dfda-4541-eb90-4722894b7a3c"
      },
      "outputs": [
        {
          "output_type": "stream",
          "name": "stdout",
          "text": [
            "Tobey Maguire once said, \"I am a blank slate - therefore, I can create anything I want.\"\n"
          ]
        }
      ],
      "source": [
        "print('Tobey Maguire once said, \"I am a blank slate - therefore, I can create anything I want.\"')\n"
      ]
    },
    {
      "cell_type": "markdown",
      "metadata": {
        "id": "kgZcknn1vD4q"
      },
      "source": [
        "## Question 6\n",
        "**Famous Quote 2:** Repeat Exercise 2-5, but this time, represent the famous person’s name using a variable called famous_person. Then compose your message and represent it with a new variable called message. Print your\n",
        "message."
      ]
    },
    {
      "cell_type": "code",
      "execution_count": 3,
      "metadata": {
        "id": "JXahzDgkvD4q",
        "colab": {
          "base_uri": "https://localhost:8080/"
        },
        "outputId": "eb767dc4-46b1-490d-f055-bacea8ddbe45"
      },
      "outputs": [
        {
          "output_type": "stream",
          "name": "stdout",
          "text": [
            "Tobey Maguire once said, \"I am a blank slate - therefore, I can create anything I want.\"\n"
          ]
        }
      ],
      "source": [
        "quote = '\"I am a blank slate - therefore, I can create anything I want.\"'\n",
        "famous_person = \"Tobey Maguire\"\n",
        "message = f\"{famous_person} once said, {quote}\"\n",
        "print(message)"
      ]
    },
    {
      "cell_type": "markdown",
      "metadata": {
        "id": "oczFScj9vD4r"
      },
      "source": [
        "## Question 7\n",
        "**Stripping Names:** Use a variable to represent a person’s name, and include some whitespace characters at the beginning and end of the name. Make sure you use each character combination, \"\\t\" and \"\\n\", at least once.\n",
        "Print the name once, so the whitespace around the name is displayed. Then print the name using each of the three stripping functions, lstrip(), rstrip(), and strip()."
      ]
    },
    {
      "cell_type": "code",
      "execution_count": 9,
      "metadata": {
        "id": "F1gw49civD4r",
        "colab": {
          "base_uri": "https://localhost:8080/"
        },
        "outputId": "b87d3df8-9157-47d9-c350-96a43cc0a070"
      },
      "outputs": [
        {
          "output_type": "stream",
          "name": "stdout",
          "text": [
            "\t Bilbo Baggins     \n",
            "                     \n",
            "Bilbo Baggins     \n",
            "                     \n",
            "\t Bilbo Baggins\n",
            "Bilbo Baggins\n"
          ]
        }
      ],
      "source": [
        "name = \"\\t Bilbo Baggins     \\n                     \"\n",
        "print(name)\n",
        "print(name.lstrip())\n",
        "print(name.rstrip())\n",
        "print(name.strip())"
      ]
    },
    {
      "cell_type": "markdown",
      "metadata": {
        "id": "u9gZ9J4cvD4r"
      },
      "source": [
        "## Question 8\n",
        "**Number Eight:** Write addition, subtraction, multiplication, and division operations that each result in the number 8. Be sure to enclose your operations in print() calls to see the results. You should create four lines that look like this:\n",
        "\n",
        "```\n",
        "print(5 + 3)\n",
        "```\n",
        "Your output should simply be four lines with the number 8 appearing once on each line."
      ]
    },
    {
      "cell_type": "code",
      "execution_count": 4,
      "metadata": {
        "id": "fdgLTmG3vD4r",
        "colab": {
          "base_uri": "https://localhost:8080/"
        },
        "outputId": "1d1184db-2492-4083-ea72-de1a84782d86"
      },
      "outputs": [
        {
          "output_type": "stream",
          "name": "stdout",
          "text": [
            "8\n",
            "8\n",
            "8\n",
            "8.0\n"
          ]
        }
      ],
      "source": [
        "print(0 + 8)\n",
        "print(11-3)\n",
        "print(2*4)\n",
        "print(72/9)"
      ]
    },
    {
      "cell_type": "markdown",
      "metadata": {
        "id": "CZwmcVMhvD4r"
      },
      "source": [
        "## Question 9\n",
        "**Favorite Number:**  Use a variable to represent your favorite number. Then, using that variable, create a message that reveals your favorite number. Print that message."
      ]
    },
    {
      "cell_type": "code",
      "execution_count": 10,
      "metadata": {
        "id": "KRwRUhjpvD4r",
        "colab": {
          "base_uri": "https://localhost:8080/"
        },
        "outputId": "a5bb14ec-1ccf-4477-e9d3-da6de9557bca"
      },
      "outputs": [
        {
          "output_type": "stream",
          "name": "stdout",
          "text": [
            "My favorite number is 23.\n"
          ]
        }
      ],
      "source": [
        "a = 23\n",
        "message = f\"My favorite number is {a}.\"\n",
        "print(message)"
      ]
    },
    {
      "cell_type": "markdown",
      "metadata": {
        "id": "WorW_vvxvD4r"
      },
      "source": [
        "## Question 10\n",
        "**Adding Comments:** Choose two of the programs you’ve written, and add at least one comment to each. If you don’t have anything specific to write because your programs are too simple at this point, just add your name and\n",
        "the current date at the top of each program file. Then write one sentence describing what the program does."
      ]
    },
    {
      "cell_type": "code",
      "execution_count": 11,
      "metadata": {
        "id": "0aZWl829vD4r",
        "colab": {
          "base_uri": "https://localhost:8080/"
        },
        "outputId": "eba40088-6a61-4677-c85b-d2c5315b2316"
      },
      "outputs": [
        {
          "output_type": "stream",
          "name": "stdout",
          "text": [
            "My favorite number is 23.\n",
            "Tobey Maguire once said, \"I am a blank slate - therefore, I can create anything I want.\"\n"
          ]
        }
      ],
      "source": [
        "a = 23\n",
        "message = f\"My favorite number is {a}.\" # because of my birthday. This constructs the message.\n",
        "print(message)\n",
        "\n",
        "quote = '\"I am a blank slate - therefore, I can create anything I want.\"' #credible?\n",
        "famous_person = \"Tobey Maguire\" #Bully Maguire\n",
        "message = f\"{famous_person} once said, {quote}\"\n",
        "print(message)#displays"
      ]
    }
  ],
  "metadata": {
    "hide_input": false,
    "kernelspec": {
      "display_name": "Python 3 (ipykernel)",
      "language": "python",
      "name": "python3"
    },
    "language_info": {
      "codemirror_mode": {
        "name": "ipython",
        "version": 3
      },
      "file_extension": ".py",
      "mimetype": "text/x-python",
      "name": "python",
      "nbconvert_exporter": "python",
      "pygments_lexer": "ipython3",
      "version": "3.8.10"
    },
    "toc": {
      "base_numbering": 1,
      "nav_menu": {},
      "number_sections": true,
      "sideBar": true,
      "skip_h1_title": false,
      "title_cell": "Table of Contents",
      "title_sidebar": "Contents",
      "toc_cell": false,
      "toc_position": {},
      "toc_section_display": true,
      "toc_window_display": false
    },
    "varInspector": {
      "cols": {
        "lenName": 16,
        "lenType": 16,
        "lenVar": 40
      },
      "kernels_config": {
        "python": {
          "delete_cmd_postfix": "",
          "delete_cmd_prefix": "del ",
          "library": "var_list.py",
          "varRefreshCmd": "print(var_dic_list())"
        },
        "r": {
          "delete_cmd_postfix": ") ",
          "delete_cmd_prefix": "rm(",
          "library": "var_list.r",
          "varRefreshCmd": "cat(var_dic_list()) "
        }
      },
      "types_to_exclude": [
        "module",
        "function",
        "builtin_function_or_method",
        "instance",
        "_Feature"
      ],
      "window_display": false
    },
    "colab": {
      "provenance": [],
      "include_colab_link": true
    }
  },
  "nbformat": 4,
  "nbformat_minor": 0
}
